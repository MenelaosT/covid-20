{
 "cells": [
  {
   "cell_type": "code",
   "execution_count": null,
   "metadata": {},
   "outputs": [],
   "source": [
    "import pandas as pd\n",
    "import numpy as np\n",
    "import math\n",
    "\n",
    "import matplotlib.pyplot as plt\n",
    "import seaborn as sns\n",
    "from pylab import *\n",
    "import pylab\n",
    "\n",
    "from scipy.optimize import curve_fit, leastsq\n",
    "\n",
    "pd.set_option('display.max_columns', 500)\n",
    "pd.set_option('display.max_rows', 500)\n",
    "\n",
    "sns.set_style('whitegrid')\n",
    "\n",
    "import covid19_module"
   ]
  },
  {
   "cell_type": "code",
   "execution_count": null,
   "metadata": {},
   "outputs": [],
   "source": [
    "df_cases_raw = pd.read_csv(\"./COVID-19_data/csse_covid_19_data/csse_covid_19_time_series/time_series_covid19_confirmed_global.csv\", index_col=False)\n",
    "df_deaths_raw = pd.read_csv(\"./COVID-19_data/csse_covid_19_data/csse_covid_19_time_series/time_series_covid19_deaths_global.csv\", index_col=False)\n",
    "df_recoveries_raw = pd.read_csv(\"./COVID-19_data/csse_covid_19_data/csse_covid_19_time_series/time_series_covid19_recovered_global.csv\", index_col=False)\n",
    "df_population_raw = pd.read_csv(\"./population_data/API_SP.POP.TOTL_DS2_en_csv_v2_887275.csv\")\n",
    "#df_cases_raw.head()"
   ]
  },
  {
   "cell_type": "code",
   "execution_count": null,
   "metadata": {},
   "outputs": [],
   "source": [
    "df_cases = covid19_module.preprocess_frame(df_cases_raw)\n",
    "df_deaths = covid19_module.preprocess_frame(df_deaths_raw)\n",
    "df_recoveries = covid19_module.preprocess_frame(df_recoveries_raw)\n",
    "df_population = df_population_raw[[\"Country Name\", \"2018\"]]\n",
    "#df_cases.head()"
   ]
  },
  {
   "cell_type": "code",
   "execution_count": null,
   "metadata": {},
   "outputs": [],
   "source": [
    "df_cases_grouped = df_cases_raw.groupby(by='Country/Region', as_index=False).agg('sum')\n",
    "top_cases = df_cases_grouped.nlargest(10, df_cases_raw.columns[-1])['Country/Region']\n",
    "print (top_cases)\n",
    "\n",
    "\n",
    "print (\"Mortality rates\")\n",
    "print (\"---------------\")\n",
    "for country in top_cases:\n",
    "    print (country, \": \", round(float(df_deaths[country].iloc[-1])/float(df_cases[country].iloc[-1])*100, 3), \"%\")\n",
    "    \n",
    "    \n",
    "print (\"\\nPopulation percentage infected\")\n",
    "print (\"---------------\")\n",
    "for country in top_cases:\n",
    "    country_pop = country\n",
    "    if country == \"US\":\n",
    "        country_pop = \"United States\"\n",
    "    if country == \"Iran\":\n",
    "        country_pop = \"Iran, Islamic Rep.\"\n",
    "    if country == \"Korea, South\":\n",
    "        country_pop = \"Korea, Rep.\"\n",
    "    print (country, \n",
    "    \": \", round(float(df_cases[country].iloc[-1])/float(df_population[df_population[\"Country Name\"]==country_pop][\"2018\"])*100, 3), \"%\")\n",
    "\n",
    "print (\"\\nPopulation permil dead\")\n",
    "print (\"---------------\")\n",
    "for country in top_cases:\n",
    "    country_pop = country\n",
    "    if country == \"US\":\n",
    "        country_pop = \"United States\"\n",
    "    if country == \"Iran\":\n",
    "        country_pop = \"Iran, Islamic Rep.\"\n",
    "    if country == \"Korea, South\":\n",
    "        country_pop = \"Korea, Rep.\"\n",
    "    print (country, \": \", round(float(df_deaths[country].iloc[-1])/float(df_population[df_population[\"Country Name\"]==country_pop][\"2018\"])*1000, 5), \"permil\")"
   ]
  },
  {
   "cell_type": "code",
   "execution_count": null,
   "metadata": {},
   "outputs": [],
   "source": [
    "#df_cases_reference = df_cases.copy()\n",
    "covid19_module.shift_to_day_zero(df_cases, df_cases)\n",
    "covid19_module.shift_to_day_zero(df_deaths, df_deaths)\n",
    "covid19_module.shift_to_day_zero(df_recoveries, df_recoveries)"
   ]
  },
  {
   "cell_type": "code",
   "execution_count": null,
   "metadata": {},
   "outputs": [],
   "source": [
    "%matplotlib notebook\n",
    "\n",
    "countries = top_cases\n",
    "covid19_module.plot_confirmed_cases(df_deaths, countries)"
   ]
  },
  {
   "cell_type": "code",
   "execution_count": null,
   "metadata": {},
   "outputs": [],
   "source": [
    "%matplotlib notebook\n",
    "\n",
    "covid19_module.plot_case_death_recovery('China', df_cases, df_deaths, df_recoveries)\n",
    "covid19_module.plot_case_death_recovery('notChina', df_cases, df_deaths, df_recoveries)"
   ]
  },
  {
   "cell_type": "code",
   "execution_count": null,
   "metadata": {},
   "outputs": [],
   "source": [
    "%matplotlib notebook\n",
    "\n",
    "covid19_module.fit_cases_data(\"Italy\", df_cases)"
   ]
  },
  {
   "cell_type": "code",
   "execution_count": null,
   "metadata": {},
   "outputs": [],
   "source": [
    "def sigmoid(x, x0, k, a, c):\n",
    "    return (a / (1 + k*np.exp(-x-x0))) + c\n",
    "\n",
    "def fit_cases_data_sigmoid(country, func, df):\n",
    "    firstday = 0\n",
    "    lastday = df[country].dropna().shape[0]\n",
    "\n",
    "    xdata = df['Day'][(df['Day']>=firstday) & (df['Day']<lastday)]\n",
    "    ydata = df[country][(df['Day']>=firstday) & (df['Day']<lastday)]\n",
    "    \n",
    "    plt.plot(xdata, ydata, 'bo', label='data')\n",
    "\n",
    "    popt, pcov = curve_fit(func, xdata, ydata)#, [0.0, 50, -1e5, 1e5])\n",
    "    print(popt)\n",
    "    print(\"covariance matrix\")\n",
    "    print(pcov)\n",
    "    x = np.linspace(firstday, lastday+10 , 100)\n",
    "    plt.plot(x, func(x, *popt), 'r-',label='fit: x0=%5.3f, k=%5.3f, a=%5.3f, c=%5.3f' % tuple(popt))\n",
    "\n",
    "    perr=np.sqrt(np.diag(pcov)) #standard errors\n",
    "    #plt.plot(x,func(x, *popt+perr), 'g')\n",
    "    #plt.plot(x,func(x, *popt-perr), 'g')\n",
    "\n",
    "    plt.xlabel('days since first case')\n",
    "    plt.ylabel('number of confirmed cases')\n",
    "    plt.legend()\n",
    "    #plt.yscale('log')\n",
    "    plt.show()"
   ]
  },
  {
   "cell_type": "code",
   "execution_count": null,
   "metadata": {},
   "outputs": [],
   "source": [
    "%matplotlib notebook\n",
    "\n",
    "fit_cases_data_sigmoid(\"Italy\", sigmoid, df_cases)"
   ]
  },
  {
   "cell_type": "code",
   "execution_count": null,
   "metadata": {},
   "outputs": [],
   "source": [
    "%matplotlib notebook\n",
    "interval = 7\n",
    "covid19_module.plot_daily_vs_total(df_cases, \"China\", interval)\n",
    "covid19_module.plot_daily_vs_total(df_cases, \"Korea, South\", interval)\n",
    "covid19_module.plot_daily_vs_total(df_cases, \"Greece\", interval)\n",
    "covid19_module.plot_daily_vs_total(df_cases, \"US\", interval)\n",
    "covid19_module.plot_daily_vs_total(df_cases, \"Italy\", interval)\n",
    "covid19_module.plot_daily_vs_total(df_cases, \"Spain\", interval)\n",
    "covid19_module.plot_daily_vs_total(df_cases, \"Sweden\", interval)\n"
   ]
  },
  {
   "cell_type": "code",
   "execution_count": null,
   "metadata": {},
   "outputs": [],
   "source": []
  }
 ],
 "metadata": {
  "kernelspec": {
   "display_name": "Python 3",
   "language": "python",
   "name": "python3"
  },
  "language_info": {
   "codemirror_mode": {
    "name": "ipython",
    "version": 3
   },
   "file_extension": ".py",
   "mimetype": "text/x-python",
   "name": "python",
   "nbconvert_exporter": "python",
   "pygments_lexer": "ipython3",
   "version": "3.7.6"
  }
 },
 "nbformat": 4,
 "nbformat_minor": 2
}
