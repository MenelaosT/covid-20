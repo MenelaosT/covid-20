{
 "cells": [
  {
   "cell_type": "code",
   "execution_count": null,
   "metadata": {
    "collapsed": false
   },
   "outputs": [],
   "source": [
    "import pandas as pd\n",
    "import numpy as np\n",
    "import math\n",
    "\n",
    "import matplotlib.pyplot as plt\n",
    "import seaborn as sns\n",
    "from pylab import *\n",
    "import pylab\n",
    "\n",
    "from scipy.optimize import curve_fit, leastsq\n",
    "\n",
    "#pd.set_option('display.max_columns', 500)\n",
    "sns.set_style('whitegrid')"
   ]
  },
  {
   "cell_type": "code",
   "execution_count": null,
   "metadata": {
    "collapsed": false
   },
   "outputs": [],
   "source": [
    "df_cases_raw = pd.read_csv(\"./data/COVID-19/csse_covid_19_data/csse_covid_19_time_series/time_series_19-covid-Confirmed.csv\", index_col=False)\n",
    "df_deaths_raw = pd.read_csv(\"./data/COVID-19/csse_covid_19_data/csse_covid_19_time_series/time_series_19-covid-Deaths.csv\", index_col=False)\n",
    "df_recoveries_raw = pd.read_csv(\"./data/COVID-19/csse_covid_19_data/csse_covid_19_time_series/time_series_19-covid-Recovered.csv\", index_col=False)\n",
    "\n",
    "df_population_raw = pd.read_csv(\"./data/population_data/API_SP.POP.TOTL_DS2_en_csv_v2_887275.csv\")"
   ]
  },
  {
   "cell_type": "code",
   "execution_count": null,
   "metadata": {
    "collapsed": false
   },
   "outputs": [],
   "source": [
    "df_cases_raw.head()"
   ]
  },
  {
   "cell_type": "code",
   "execution_count": null,
   "metadata": {
    "collapsed": false
   },
   "outputs": [],
   "source": [
    "df_cases_grouped = df_cases_raw.groupby(by='Country/Region', as_index=False).agg('sum')\n",
    "top_cases = df_cases_grouped.nlargest(10, df_cases_raw.columns[-1])['Country/Region']\n",
    "print top_cases"
   ]
  },
  {
   "cell_type": "code",
   "execution_count": null,
   "metadata": {
    "collapsed": false,
    "scrolled": true
   },
   "outputs": [],
   "source": [
    "def preprocess_frame(df):\n",
    "    df = df.groupby(by='Country/Region', as_index=False).agg('sum')\n",
    "    df = df.drop(['Lat', 'Long'], 1)\n",
    "    df = df.set_index('Country/Region').T\n",
    "    df['Date'] = df.index\n",
    "    df.insert(0, 'Day', range(0, len(df)))\n",
    "    df[\"notChina\"] = df.drop(['Day', 'China', 'Date'], axis=1).sum(axis=1)\n",
    "    return df\n",
    "\n",
    "df_cases = preprocess_frame(df_cases_raw)\n",
    "df_deaths = preprocess_frame(df_deaths_raw)\n",
    "df_recoveries = preprocess_frame(df_recoveries_raw)"
   ]
  },
  {
   "cell_type": "code",
   "execution_count": null,
   "metadata": {
    "collapsed": false
   },
   "outputs": [],
   "source": [
    "def shift_to_day_zero(df, df_reference):\n",
    "    for key in df.columns:\n",
    "        if key!= 'Date' and key!='Day' :\n",
    "            if df_reference[key].sum()>0:\n",
    "                df[key] = df[key].shift(-df_reference['Day'][df_reference[key]>0].iloc[0])\n",
    "    \n",
    "\n",
    "df_cases_reference = df_cases.copy()\n",
    "shift_to_day_zero(df_cases, df_cases_reference)\n",
    "shift_to_day_zero(df_deaths, df_cases_reference)\n",
    "shift_to_day_zero(df_recoveries, df_cases_reference)"
   ]
  },
  {
   "cell_type": "code",
   "execution_count": null,
   "metadata": {
    "collapsed": false
   },
   "outputs": [],
   "source": [
    "%matplotlib notebook\n",
    "\n",
    "countries = top_cases\n",
    "def plot_confirmed_cases(df, countries):\n",
    "    g = sns.lineplot(df['Day'], df['Greece'], label='Greece')\n",
    "    #sns.lineplot(df['Day'], df['notChina'], label='notChina')\n",
    "    for country in countries:\n",
    "        sns.lineplot(df['Day'], df[country], label=country)\n",
    "    g.set(xlabel='Days since first confirmed case', ylabel='Confirmed cases')\n",
    "    g.set_yscale(\"log\")\n",
    "    plt.legend()\n",
    " \n",
    "plot_confirmed_cases(df_cases, countries)"
   ]
  },
  {
   "cell_type": "code",
   "execution_count": null,
   "metadata": {
    "collapsed": false
   },
   "outputs": [],
   "source": [
    "%matplotlib notebook\n",
    "\n",
    "def plot_case_death_recovery(country):\n",
    "    g = sns.lineplot(df_cases['Day'], df_cases[country], label=country+' cases')\n",
    "    sns.lineplot(df_recoveries['Day'], df_recoveries[country], label=country+' recovered')\n",
    "    sns.lineplot(df_deaths['Day'], df_deaths[country], label=country+' deaths')\n",
    "    g.set(ylabel='entries')\n",
    "    g.set_yscale(\"log\")\n",
    "    plt.legend()\n",
    "\n",
    "plot_case_death_recovery('China')\n",
    "plot_case_death_recovery('notChina')"
   ]
  },
  {
   "cell_type": "code",
   "execution_count": null,
   "metadata": {
    "collapsed": false
   },
   "outputs": [],
   "source": [
    "%matplotlib notebook\n",
    "\n",
    "def sigmoid(x, x0, k, a, c):\n",
    "     y = a / (1 + np.exp(-k*(x-x0))) + c\n",
    "     return y\n",
    "\n",
    "xdata, ydata = df_cases['Day'], df_cases['China']\n",
    "popt, pcov = curve_fit(sigmoid, xdata, ydata, p0=(1.0, -1.0, 1.0, 0.0))\n",
    "print \"Fit:\"\n",
    "print \"x0 =\", popt[0]\n",
    "print \"k  =\", popt[1]\n",
    "print \"a  =\", popt[2]\n",
    "print \"c  =\", popt[3]\n",
    "print \"Asymptotes are\", popt[3], \"and\", popt[3] + popt[2] \n",
    "\n",
    "print popt\n",
    "\n",
    "x = np.linspace(-1, 50, 50)\n",
    "y = sigmoid(x, *popt)\n",
    "\n",
    "pylab.plot(xdata, ydata, 'o', label='data')\n",
    "pylab.plot(x,y, label='fit')\n",
    "pylab.ylim(0, 100000)\n",
    "pylab.legend(loc='best')\n",
    "pylab.show()"
   ]
  },
  {
   "cell_type": "code",
   "execution_count": null,
   "metadata": {
    "collapsed": false
   },
   "outputs": [],
   "source": [
    "%matplotlib notebook\n",
    "\n",
    "def func(x, a, b, c):\n",
    "    return a * np.exp(b * x) + c\n",
    "\n",
    "def fit_cases_data(country, func, df):\n",
    "    firstday = 0\n",
    "    lastday = df[country].dropna().shape[0]\n",
    "\n",
    "    xdata = df['Day'][(df['Day']>=firstday) & (df['Day']<lastday)]\n",
    "    ydata = df[country][(df['Day']>=firstday) & (df['Day']<lastday)]\n",
    "    \n",
    "    plt.plot(xdata, ydata, 'bo', label='data')\n",
    "\n",
    "    popt, pcov = curve_fit(func, xdata, ydata, [0.1,0.1,0.1], bounds=[[-100, -100, 0],[100, 100, 100]])\n",
    "    print(popt)\n",
    "    print(\"covariance matrix\")\n",
    "    print(pcov)\n",
    "    x = np.linspace(firstday, lastday+5 , 100)\n",
    "    plt.plot(x, func(x, *popt), 'r-',label='fit: a=%5.3f, b=%5.3f, c=%5.3f' % tuple(popt))\n",
    "\n",
    "    perr=np.sqrt(np.diag(pcov)) #standard errors\n",
    "    plt.plot(x,func(x, *popt+perr), 'g')\n",
    "    plt.plot(x,func(x, *popt-perr), 'g')\n",
    "\n",
    "    plt.xlabel('days since first case')\n",
    "    plt.ylabel('number of confirmed cases')\n",
    "    plt.legend()\n",
    "    #plt.yscale('log')\n",
    "    plt.show()\n"
   ]
  },
  {
   "cell_type": "code",
   "execution_count": null,
   "metadata": {
    "collapsed": false
   },
   "outputs": [],
   "source": [
    "%matplotlib notebook\n",
    "\n",
    "fit_cases_data(\"Germany\", func, df_deaths)"
   ]
  },
  {
   "cell_type": "code",
   "execution_count": null,
   "metadata": {
    "collapsed": false
   },
   "outputs": [],
   "source": [
    "def fit_cases_data_sigmoid(country, func, df):\n",
    "    firstday = 0\n",
    "    lastday = df[country].dropna().shape[0]\n",
    "\n",
    "    xdata = df['Day'][(df['Day']>=firstday) & (df['Day']<lastday)]\n",
    "    ydata = df[country][(df['Day']>=firstday) & (df['Day']<lastday)]\n",
    "    \n",
    "    plt.plot(xdata, ydata, 'bo', label='data')\n",
    "\n",
    "    popt, pcov = curve_fit(func, xdata, ydata, [50.0, 0, -1e3, 1e3])\n",
    "    print(popt)\n",
    "    print(\"covariance matrix\")\n",
    "    print(pcov)\n",
    "    x = np.linspace(firstday, lastday+10 , 100)\n",
    "    plt.plot(x, func(x, *popt), 'r-',label='fit: a=%5.3f, b=%5.3f, c=%5.3f, d=%5.3f' % tuple(popt))\n",
    "\n",
    "    perr=np.sqrt(np.diag(pcov)) #standard errors\n",
    "    plt.plot(x,func(x, *popt+perr), 'g')\n",
    "    plt.plot(x,func(x, *popt-perr), 'g')\n",
    "\n",
    "    plt.xlabel('days since first case')\n",
    "    plt.ylabel('number of confirmed cases')\n",
    "    plt.legend()\n",
    "    #plt.yscale('log')\n",
    "    plt.show()"
   ]
  },
  {
   "cell_type": "code",
   "execution_count": null,
   "metadata": {
    "collapsed": false
   },
   "outputs": [],
   "source": [
    "%matplotlib notebook\n",
    "\n",
    "fit_cases_data_sigmoid(\"Germany\", sigmoid, df_cases)"
   ]
  },
  {
   "cell_type": "code",
   "execution_count": null,
   "metadata": {
    "collapsed": true
   },
   "outputs": [],
   "source": []
  }
 ],
 "metadata": {
  "kernelspec": {
   "display_name": "Python 2",
   "language": "python",
   "name": "python2"
  },
  "language_info": {
   "codemirror_mode": {
    "name": "ipython",
    "version": 2
   },
   "file_extension": ".py",
   "mimetype": "text/x-python",
   "name": "python",
   "nbconvert_exporter": "python",
   "pygments_lexer": "ipython2",
   "version": "2.7.13"
  }
 },
 "nbformat": 4,
 "nbformat_minor": 2
}
