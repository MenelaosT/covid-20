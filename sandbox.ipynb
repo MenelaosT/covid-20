{
 "cells": [
  {
   "cell_type": "code",
   "execution_count": null,
   "metadata": {},
   "outputs": [],
   "source": [
    "import pandas as pd\n",
    "import covid19_module"
   ]
  },
  {
   "cell_type": "code",
   "execution_count": null,
   "metadata": {},
   "outputs": [],
   "source": [
    "df_cases_raw = pd.read_csv(\"https://raw.githubusercontent.com/CSSEGISandData/COVID-19/master/csse_covid_19_data/csse_covid_19_time_series/time_series_covid19_confirmed_global.csv\", index_col=False)\n",
    "df_deaths_raw = pd.read_csv(\"https://raw.githubusercontent.com/CSSEGISandData/COVID-19/master/csse_covid_19_data/csse_covid_19_time_series/time_series_covid19_deaths_global.csv\", index_col=False)\n",
    "df_recoveries_raw = pd.read_csv(\"https://raw.githubusercontent.com/CSSEGISandData/COVID-19/master/csse_covid_19_data/csse_covid_19_time_series/time_series_covid19_recovered_global.csv\", index_col=False)\n",
    "df_population_raw = pd.read_csv(\"./population_data/API_SP.POP.TOTL_DS2_en_csv_v2_887275.csv\")\n",
    "\n",
    "df_cases = covid19_module.preprocess_frame(df_cases_raw)\n",
    "df_deaths = covid19_module.preprocess_frame(df_deaths_raw)\n",
    "df_recoveries = covid19_module.preprocess_frame(df_recoveries_raw)\n",
    "df_population = df_population_raw[[\"Country Name\", \"2018\"]]\n",
    "\n",
    "covid19_module.shift_to_day_zero(df_cases, df_cases)\n",
    "covid19_module.shift_to_day_zero(df_deaths, df_deaths)\n",
    "covid19_module.shift_to_day_zero(df_recoveries, df_recoveries)"
   ]
  },
  {
   "cell_type": "code",
   "execution_count": null,
   "metadata": {},
   "outputs": [],
   "source": [
    "top_cases = covid19_module.top_countries(df_cases_raw)\n",
    "top_deaths = covid19_module.top_countries(df_deaths_raw)\n",
    "\n",
    "covid19_module.print_mortality_rates(df_cases, df_deaths, top_deaths)\n",
    "covid19_module.print_percentage_infected(df_cases, df_population, top_cases)\n",
    "covid19_module.print_permil_deaths(df_deaths, df_population, top_deaths)"
   ]
  },
  {
   "cell_type": "code",
   "execution_count": null,
   "metadata": {},
   "outputs": [],
   "source": [
    "%matplotlib notebook\n",
    "covid19_module.plot_growth(df_cases, top_cases, \"confirmed\")\n",
    "covid19_module.plot_growth(df_deaths, top_deaths, \"deaths\")"
   ]
  },
  {
   "cell_type": "code",
   "execution_count": null,
   "metadata": {},
   "outputs": [],
   "source": [
    "%matplotlib notebook\n",
    "covid19_module.plot_case_death_recovery('China', df_cases, df_deaths, df_recoveries)\n",
    "covid19_module.plot_case_death_recovery('notChina', df_cases, df_deaths, df_recoveries)"
   ]
  },
  {
   "cell_type": "code",
   "execution_count": null,
   "metadata": {},
   "outputs": [],
   "source": [
    "%matplotlib notebook\n",
    "covid19_module.fit_cases_data(\"Italy\", df_cases)"
   ]
  },
  {
   "cell_type": "code",
   "execution_count": null,
   "metadata": {},
   "outputs": [],
   "source": [
    "%matplotlib notebook\n",
    "covid19_module.fit_cases_data_sigmoid(\"Italy\", df_deaths)"
   ]
  },
  {
   "cell_type": "code",
   "execution_count": null,
   "metadata": {},
   "outputs": [],
   "source": [
    "%matplotlib notebook\n",
    "interval = 14\n",
    "for country in top_cases:\n",
    "    covid19_module.plot_daily_vs_total(df_cases, country, interval)"
   ]
  },
  {
   "cell_type": "code",
   "execution_count": null,
   "metadata": {},
   "outputs": [],
   "source": [
    "%matplotlib notebook\n",
    "df_daily = covid19_module.add_daily_entries(df_cases)\n",
    "covid19_module.fit_normal(df_daily, \"China\")"
   ]
  },
  {
   "cell_type": "code",
   "execution_count": null,
   "metadata": {},
   "outputs": [],
   "source": []
  }
 ],
 "metadata": {
  "kernelspec": {
   "display_name": "Python 3",
   "language": "python",
   "name": "python3"
  },
  "language_info": {
   "codemirror_mode": {
    "name": "ipython",
    "version": 3
   },
   "file_extension": ".py",
   "mimetype": "text/x-python",
   "name": "python",
   "nbconvert_exporter": "python",
   "pygments_lexer": "ipython3",
   "version": "3.7.6"
  }
 },
 "nbformat": 4,
 "nbformat_minor": 2
}
