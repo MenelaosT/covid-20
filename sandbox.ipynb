{
 "cells": [
  {
   "cell_type": "code",
   "execution_count": null,
   "metadata": {},
   "outputs": [],
   "source": [
    "import pandas as pd\n",
    "import covid19_module"
   ]
  },
  {
   "cell_type": "code",
   "execution_count": null,
   "metadata": {},
   "outputs": [],
   "source": [
    "df_cases_raw = pd.read_csv(\"https://raw.githubusercontent.com/CSSEGISandData/COVID-19/master/csse_covid_19_data/csse_covid_19_time_series/time_series_covid19_confirmed_global.csv\", index_col=False)\n",
    "df_deaths_raw = pd.read_csv(\"https://raw.githubusercontent.com/CSSEGISandData/COVID-19/master/csse_covid_19_data/csse_covid_19_time_series/time_series_covid19_deaths_global.csv\", index_col=False)\n",
    "df_recoveries_raw = pd.read_csv(\"https://raw.githubusercontent.com/CSSEGISandData/COVID-19/master/csse_covid_19_data/csse_covid_19_time_series/time_series_covid19_recovered_global.csv\", index_col=False)\n",
    "df_population_raw = pd.read_csv(\"./population_data/API_SP.POP.TOTL_DS2_en_csv_v2_887275.csv\")\n",
    "\n",
    "df_cases = covid19_module.preprocess_frame(df_cases_raw)\n",
    "df_deaths = covid19_module.preprocess_frame(df_deaths_raw)\n",
    "df_recoveries = covid19_module.preprocess_frame(df_recoveries_raw)\n",
    "df_population = df_population_raw[[\"Country Name\", \"2018\"]]\n",
    "\n",
    "covid19_module.shift_to_day_zero(df_cases, df_cases)\n",
    "covid19_module.shift_to_day_zero(df_deaths, df_deaths)\n",
    "covid19_module.shift_to_day_zero(df_recoveries, df_recoveries)"
   ]
  },
  {
   "cell_type": "code",
   "execution_count": null,
   "metadata": {
    "scrolled": false
   },
   "outputs": [],
   "source": [
    "top_cases = covid19_module.top_countries(df_cases_raw)\n",
    "top_deaths = covid19_module.top_countries(df_deaths_raw)\n",
    "\n",
    "#covid19_module.plot_top_countries(df_cases, top_cases, \"confirmed\")\n",
    "#covid19_module.plot_top_countries(df_deaths, top_deaths, \"deaths\")\n",
    "\n",
    "#covid19_module.print_mortality_rates(df_cases, df_deaths, top_deaths)\n",
    "#covid19_module.print_percentage_infected(df_cases, df_population, top_cases)\n",
    "#covid19_module.print_permil_deaths(df_deaths, df_population, top_deaths)"
   ]
  },
  {
   "cell_type": "code",
   "execution_count": null,
   "metadata": {},
   "outputs": [],
   "source": [
    "#%matplotlib notebook\n",
    "covid19_module.plot_growth(df_cases, top_cases, \"confirmed\")\n",
    "covid19_module.plot_growth(df_deaths, top_deaths, \"deaths\")"
   ]
  },
  {
   "cell_type": "code",
   "execution_count": null,
   "metadata": {},
   "outputs": [],
   "source": [
    "#%matplotlib notebook\n",
    "covid19_module.plot_case_death_recovery('China', df_cases, df_deaths, df_recoveries)\n",
    "covid19_module.plot_case_death_recovery('notChina', df_cases, df_deaths, df_recoveries)"
   ]
  },
  {
   "cell_type": "code",
   "execution_count": null,
   "metadata": {
    "scrolled": false
   },
   "outputs": [],
   "source": [
    "top_countries = top_cases.tolist()\n",
    "top_countries.append(\"Greece\")\n",
    "for country in top_countries:\n",
    "    try:\n",
    "        log_popt, log_pcov, inflection_p = covid19_module.fit_logistic(country, df_cases)\n",
    "        fit_end = inflection_p[1]\n",
    "        if fit_end > df_cases[country].dropna().shape[0]:\n",
    "            fit_end = df_cases[country].dropna().shape[0]\n",
    "        exp_popt, exp_pcov, R2 = covid19_module.fit_exponential(country, df_cases, [0,fit_end])\n",
    "        covid19_module.plot_fits(country, df_cases, exp_popt, exp_pcov, log_popt, log_pcov, inflection_p[0], \"confirmed\")\n",
    "    except:\n",
    "        pass"
   ]
  },
  {
   "cell_type": "code",
   "execution_count": null,
   "metadata": {
    "scrolled": false
   },
   "outputs": [],
   "source": [
    "top_countries = top_deaths.tolist()\n",
    "top_countries.append(\"Greece\")\n",
    "for country in top_countries:\n",
    "    try:\n",
    "        log_popt, log_pcov, inflection_p = covid19_module.fit_logistic(country, df_deaths)\n",
    "        fit_end = inflection_p[1]\n",
    "        if fit_end > df_deaths[country].dropna().shape[0]:\n",
    "            fit_end = df_deaths[country].dropna().shape[0]\n",
    "        exp_popt, exp_pcov, R2 = covid19_module.fit_exponential(country, df_deaths, [0,fit_end])\n",
    "        covid19_module.plot_fits(country, df_deaths, exp_popt, exp_pcov, log_popt, log_pcov, inflection_p[0], \"confirmed\")\n",
    "    except:\n",
    "        pass"
   ]
  },
  {
   "cell_type": "code",
   "execution_count": null,
   "metadata": {},
   "outputs": [],
   "source": [
    "#%matplotlib notebook\n",
    "interval = 14\n",
    "for country in top_cases:\n",
    "    covid19_module.plot_daily_vs_total(df_cases, country, interval)"
   ]
  },
  {
   "cell_type": "code",
   "execution_count": null,
   "metadata": {},
   "outputs": [],
   "source": [
    "#%matplotlib notebook\n",
    "df_daily = covid19_module.add_daily_entries(df_cases)\n",
    "covid19_module.fit_normal(df_daily, \"China\")"
   ]
  },
  {
   "cell_type": "code",
   "execution_count": null,
   "metadata": {},
   "outputs": [],
   "source": []
  }
 ],
 "metadata": {
  "kernelspec": {
   "display_name": "Python 3",
   "language": "python",
   "name": "python3"
  },
  "language_info": {
   "codemirror_mode": {
    "name": "ipython",
    "version": 3
   },
   "file_extension": ".py",
   "mimetype": "text/x-python",
   "name": "python",
   "nbconvert_exporter": "python",
   "pygments_lexer": "ipython3",
   "version": "3.7.6"
  }
 },
 "nbformat": 4,
 "nbformat_minor": 2
}
